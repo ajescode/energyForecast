{
 "cells": [
  {
   "cell_type": "code",
   "execution_count": 26,
   "metadata": {},
   "outputs": [],
   "source": [
    "import pandas as pd\n",
    "from sklearn import metrics\n",
    "import numpy as np\n",
    "\n",
    "areas = ['DK1','DK2']\n",
    "files = ['consumption','price']\n",
    "\n",
    "data_dir = \"../../data/data_sanitized/\"\n",
    "forecast_dir = 'forecasts/'\n",
    "\n",
    "data = {}\n",
    "for file in files:\n",
    "    data[file] = {}\n",
    "    for area in areas:\n",
    "        data[file][area] = pd.read_csv(data_dir + file+\"_\"+ area+\".csv\")\n",
    "\n"
   ]
  },
  {
   "cell_type": "code",
   "execution_count": 19,
   "metadata": {},
   "outputs": [],
   "source": [
    "def get_forecast_file(no):\n",
    "    return pd.read_csv(forecast_dir + no +\".csv\")"
   ]
  },
  {
   "cell_type": "code",
   "execution_count": 20,
   "metadata": {},
   "outputs": [],
   "source": [
    "\n",
    "forecasts_file = forecast_dir + 'files.txt'\n",
    "forecasts = {}\n",
    "\n",
    "with open(forecasts_file, 'r+') as f:\n",
    "    lines = f.read().splitlines()\n",
    "    if not lines:\n",
    "        print('Empty file')\n",
    "    for line in lines:\n",
    "        cur_line = line.split('.', 1)\n",
    "        no = cur_line[0]\n",
    "        cur_line[1] =  cur_line[1].split('|')\n",
    "        forecasts[no] = {\"data\":get_forecast_file(no),'file':cur_line[1][0],'area':cur_line[1][1], 'variables':cur_line[1][4]}"
   ]
  },
  {
   "cell_type": "code",
   "execution_count": null,
   "metadata": {},
   "outputs": [],
   "source": []
  },
  {
   "cell_type": "code",
   "execution_count": 21,
   "metadata": {},
   "outputs": [],
   "source": [
    "forecasts_mae = {}\n",
    "for f in forecasts:\n",
    "    first_index = forecasts[f]['data'].iloc[0,0]\n",
    "    last_index = forecasts[f]['data'].iloc[-1,0]\n",
    "    y_pred = forecasts[f]['data'].loc[:,'0':'23']\n",
    "    y_true = data[forecasts[f]['file']][forecasts[f]['area']].loc[first_index:last_index,'0':'23']\n",
    "    forecasts_mae[f] = metrics.mean_absolute_error(y_true,y_pred)"
   ]
  },
  {
   "cell_type": "code",
   "execution_count": 22,
   "metadata": {},
   "outputs": [
    {
     "data": {
      "text/plain": [
       "{'1': 31.78635869099986,\n",
       " '2': 220.0644089528761,\n",
       " '3': 220.0644089528761,\n",
       " '4': 226.16263042797723,\n",
       " '5': 31.465149320473444,\n",
       " '6': 60.238879866388025}"
      ]
     },
     "execution_count": 22,
     "metadata": {},
     "output_type": "execute_result"
    }
   ],
   "source": [
    "forecasts_mae"
   ]
  },
  {
   "cell_type": "code",
   "execution_count": 23,
   "metadata": {},
   "outputs": [],
   "source": [
    "mi = pd.MultiIndex.from_arrays((list('abc'), list('def')))\n",
    "\n",
    "mi.names = ['level_1', 'level_2']"
   ]
  },
  {
   "cell_type": "code",
   "execution_count": 24,
   "metadata": {},
   "outputs": [
    {
     "data": {
      "text/plain": [
       "MultiIndex([('a', 'd'),\n",
       "            ('b', 'e'),\n",
       "            ('c', 'f')],\n",
       "           names=['level_1', 'level_2'])"
      ]
     },
     "execution_count": 24,
     "metadata": {},
     "output_type": "execute_result"
    }
   ],
   "source": [
    "mi"
   ]
  },
  {
   "cell_type": "code",
   "execution_count": 51,
   "metadata": {},
   "outputs": [
    {
     "data": {
      "text/html": [
       "<style  type=\"text/css\" >\n",
       "    #T_8c415012_a7f0_11ea_9bab_f995b4c05226row0_col0 {\n",
       "            background-color:  #e5ffe5;\n",
       "            color:  #000000;\n",
       "        }    #T_8c415012_a7f0_11ea_9bab_f995b4c05226row0_col1 {\n",
       "            background-color:  #e5ffe5;\n",
       "            color:  #000000;\n",
       "        }    #T_8c415012_a7f0_11ea_9bab_f995b4c05226row0_col2 {\n",
       "            background-color:  #e5ffe5;\n",
       "            color:  #000000;\n",
       "        }    #T_8c415012_a7f0_11ea_9bab_f995b4c05226row0_col3 {\n",
       "            background-color:  #e5ffe5;\n",
       "            color:  #000000;\n",
       "        }    #T_8c415012_a7f0_11ea_9bab_f995b4c05226row1_col0 {\n",
       "            background-color:  #e5ffe5;\n",
       "            color:  #000000;\n",
       "        }    #T_8c415012_a7f0_11ea_9bab_f995b4c05226row1_col1 {\n",
       "            background-color:  #e5ffe5;\n",
       "            color:  #000000;\n",
       "        }    #T_8c415012_a7f0_11ea_9bab_f995b4c05226row1_col2 {\n",
       "            background-color:  #e5ffe5;\n",
       "            color:  #000000;\n",
       "        }    #T_8c415012_a7f0_11ea_9bab_f995b4c05226row1_col3 {\n",
       "            background-color:  #e5ffe5;\n",
       "            color:  #000000;\n",
       "        }    #T_8c415012_a7f0_11ea_9bab_f995b4c05226row2_col0 {\n",
       "            background-color:  #e5ffe5;\n",
       "            color:  #000000;\n",
       "        }    #T_8c415012_a7f0_11ea_9bab_f995b4c05226row2_col1 {\n",
       "            background-color:  #e5ffe5;\n",
       "            color:  #000000;\n",
       "        }    #T_8c415012_a7f0_11ea_9bab_f995b4c05226row2_col2 {\n",
       "            background-color:  #e5ffe5;\n",
       "            color:  #000000;\n",
       "        }    #T_8c415012_a7f0_11ea_9bab_f995b4c05226row2_col3 {\n",
       "            background-color:  #e5ffe5;\n",
       "            color:  #000000;\n",
       "        }    #T_8c415012_a7f0_11ea_9bab_f995b4c05226row3_col0 {\n",
       "            background-color:  #e5ffe5;\n",
       "            color:  #000000;\n",
       "        }    #T_8c415012_a7f0_11ea_9bab_f995b4c05226row3_col1 {\n",
       "            background-color:  #e5ffe5;\n",
       "            color:  #000000;\n",
       "        }    #T_8c415012_a7f0_11ea_9bab_f995b4c05226row3_col2 {\n",
       "            background-color:  #e5ffe5;\n",
       "            color:  #000000;\n",
       "        }    #T_8c415012_a7f0_11ea_9bab_f995b4c05226row3_col3 {\n",
       "            background-color:  #e5ffe5;\n",
       "            color:  #000000;\n",
       "        }    #T_8c415012_a7f0_11ea_9bab_f995b4c05226row4_col0 {\n",
       "            background-color:  #e5ffe5;\n",
       "            color:  #000000;\n",
       "        }    #T_8c415012_a7f0_11ea_9bab_f995b4c05226row4_col1 {\n",
       "            background-color:  #e5ffe5;\n",
       "            color:  #000000;\n",
       "        }    #T_8c415012_a7f0_11ea_9bab_f995b4c05226row4_col2 {\n",
       "            background-color:  #e5ffe5;\n",
       "            color:  #000000;\n",
       "        }    #T_8c415012_a7f0_11ea_9bab_f995b4c05226row4_col3 {\n",
       "            background-color:  #e5ffe5;\n",
       "            color:  #000000;\n",
       "        }    #T_8c415012_a7f0_11ea_9bab_f995b4c05226row5_col0 {\n",
       "            background-color:  #e5ffe5;\n",
       "            color:  #000000;\n",
       "        }    #T_8c415012_a7f0_11ea_9bab_f995b4c05226row5_col1 {\n",
       "            background-color:  #e5ffe5;\n",
       "            color:  #000000;\n",
       "        }    #T_8c415012_a7f0_11ea_9bab_f995b4c05226row5_col2 {\n",
       "            background-color:  #e5ffe5;\n",
       "            color:  #000000;\n",
       "        }    #T_8c415012_a7f0_11ea_9bab_f995b4c05226row5_col3 {\n",
       "            background-color:  #e5ffe5;\n",
       "            color:  #000000;\n",
       "        }    #T_8c415012_a7f0_11ea_9bab_f995b4c05226row6_col0 {\n",
       "            background-color:  #e5ffe5;\n",
       "            color:  #000000;\n",
       "        }    #T_8c415012_a7f0_11ea_9bab_f995b4c05226row6_col1 {\n",
       "            background-color:  #e5ffe5;\n",
       "            color:  #000000;\n",
       "        }    #T_8c415012_a7f0_11ea_9bab_f995b4c05226row6_col2 {\n",
       "            background-color:  #e5ffe5;\n",
       "            color:  #000000;\n",
       "        }    #T_8c415012_a7f0_11ea_9bab_f995b4c05226row6_col3 {\n",
       "            background-color:  #e5ffe5;\n",
       "            color:  #000000;\n",
       "        }    #T_8c415012_a7f0_11ea_9bab_f995b4c05226row7_col0 {\n",
       "            background-color:  #e5ffe5;\n",
       "            color:  #000000;\n",
       "        }    #T_8c415012_a7f0_11ea_9bab_f995b4c05226row7_col1 {\n",
       "            background-color:  #e5ffe5;\n",
       "            color:  #000000;\n",
       "        }    #T_8c415012_a7f0_11ea_9bab_f995b4c05226row7_col2 {\n",
       "            background-color:  #e5ffe5;\n",
       "            color:  #000000;\n",
       "        }    #T_8c415012_a7f0_11ea_9bab_f995b4c05226row7_col3 {\n",
       "            background-color:  #e5ffe5;\n",
       "            color:  #000000;\n",
       "        }</style><table id=\"T_8c415012_a7f0_11ea_9bab_f995b4c05226\" ><thead>    <tr>        <th class=\"blank\" ></th>        <th class=\"blank\" ></th>        <th class=\"blank level0\" ></th>        <th class=\"col_heading level0 col0\" >Model 1</th>        <th class=\"col_heading level0 col1\" >Model 2</th>        <th class=\"col_heading level0 col2\" >Model 3</th>        <th class=\"col_heading level0 col3\" >Model 4</th>    </tr>    <tr>        <th class=\"index_name level0\" >Area</th>        <th class=\"index_name level1\" >Window</th>        <th class=\"index_name level2\" >Start date</th>        <th class=\"blank\" ></th>        <th class=\"blank\" ></th>        <th class=\"blank\" ></th>        <th class=\"blank\" ></th>    </tr></thead><tbody>\n",
       "                <tr>\n",
       "                        <th id=\"T_8c415012_a7f0_11ea_9bab_f995b4c05226level0_row0\" class=\"row_heading level0 row0\" rowspan=4>DK1</th>\n",
       "                        <th id=\"T_8c415012_a7f0_11ea_9bab_f995b4c05226level1_row0\" class=\"row_heading level1 row0\" rowspan=2>364</th>\n",
       "                        <th id=\"T_8c415012_a7f0_11ea_9bab_f995b4c05226level2_row0\" class=\"row_heading level2 row0\" >2016-01-01</th>\n",
       "                        <td id=\"T_8c415012_a7f0_11ea_9bab_f995b4c05226row0_col0\" class=\"data row0 col0\" >2.000000</td>\n",
       "                        <td id=\"T_8c415012_a7f0_11ea_9bab_f995b4c05226row0_col1\" class=\"data row0 col1\" >2.000000</td>\n",
       "                        <td id=\"T_8c415012_a7f0_11ea_9bab_f995b4c05226row0_col2\" class=\"data row0 col2\" >2.000000</td>\n",
       "                        <td id=\"T_8c415012_a7f0_11ea_9bab_f995b4c05226row0_col3\" class=\"data row0 col3\" >2.000000</td>\n",
       "            </tr>\n",
       "            <tr>\n",
       "                                        <th id=\"T_8c415012_a7f0_11ea_9bab_f995b4c05226level2_row1\" class=\"row_heading level2 row1\" >2016-05-12</th>\n",
       "                        <td id=\"T_8c415012_a7f0_11ea_9bab_f995b4c05226row1_col0\" class=\"data row1 col0\" >2.000000</td>\n",
       "                        <td id=\"T_8c415012_a7f0_11ea_9bab_f995b4c05226row1_col1\" class=\"data row1 col1\" >2.000000</td>\n",
       "                        <td id=\"T_8c415012_a7f0_11ea_9bab_f995b4c05226row1_col2\" class=\"data row1 col2\" >2.000000</td>\n",
       "                        <td id=\"T_8c415012_a7f0_11ea_9bab_f995b4c05226row1_col3\" class=\"data row1 col3\" >2.000000</td>\n",
       "            </tr>\n",
       "            <tr>\n",
       "                                <th id=\"T_8c415012_a7f0_11ea_9bab_f995b4c05226level1_row2\" class=\"row_heading level1 row2\" rowspan=2>728</th>\n",
       "                        <th id=\"T_8c415012_a7f0_11ea_9bab_f995b4c05226level2_row2\" class=\"row_heading level2 row2\" >2016-01-01</th>\n",
       "                        <td id=\"T_8c415012_a7f0_11ea_9bab_f995b4c05226row2_col0\" class=\"data row2 col0\" >2.000000</td>\n",
       "                        <td id=\"T_8c415012_a7f0_11ea_9bab_f995b4c05226row2_col1\" class=\"data row2 col1\" >2.000000</td>\n",
       "                        <td id=\"T_8c415012_a7f0_11ea_9bab_f995b4c05226row2_col2\" class=\"data row2 col2\" >2.000000</td>\n",
       "                        <td id=\"T_8c415012_a7f0_11ea_9bab_f995b4c05226row2_col3\" class=\"data row2 col3\" >2.000000</td>\n",
       "            </tr>\n",
       "            <tr>\n",
       "                                        <th id=\"T_8c415012_a7f0_11ea_9bab_f995b4c05226level2_row3\" class=\"row_heading level2 row3\" >2016-05-12</th>\n",
       "                        <td id=\"T_8c415012_a7f0_11ea_9bab_f995b4c05226row3_col0\" class=\"data row3 col0\" >2.000000</td>\n",
       "                        <td id=\"T_8c415012_a7f0_11ea_9bab_f995b4c05226row3_col1\" class=\"data row3 col1\" >2.000000</td>\n",
       "                        <td id=\"T_8c415012_a7f0_11ea_9bab_f995b4c05226row3_col2\" class=\"data row3 col2\" >2.000000</td>\n",
       "                        <td id=\"T_8c415012_a7f0_11ea_9bab_f995b4c05226row3_col3\" class=\"data row3 col3\" >2.000000</td>\n",
       "            </tr>\n",
       "            <tr>\n",
       "                        <th id=\"T_8c415012_a7f0_11ea_9bab_f995b4c05226level0_row4\" class=\"row_heading level0 row4\" rowspan=4>DK2</th>\n",
       "                        <th id=\"T_8c415012_a7f0_11ea_9bab_f995b4c05226level1_row4\" class=\"row_heading level1 row4\" rowspan=2>364</th>\n",
       "                        <th id=\"T_8c415012_a7f0_11ea_9bab_f995b4c05226level2_row4\" class=\"row_heading level2 row4\" >2016-01-01</th>\n",
       "                        <td id=\"T_8c415012_a7f0_11ea_9bab_f995b4c05226row4_col0\" class=\"data row4 col0\" >2.000000</td>\n",
       "                        <td id=\"T_8c415012_a7f0_11ea_9bab_f995b4c05226row4_col1\" class=\"data row4 col1\" >2.000000</td>\n",
       "                        <td id=\"T_8c415012_a7f0_11ea_9bab_f995b4c05226row4_col2\" class=\"data row4 col2\" >2.000000</td>\n",
       "                        <td id=\"T_8c415012_a7f0_11ea_9bab_f995b4c05226row4_col3\" class=\"data row4 col3\" >2.000000</td>\n",
       "            </tr>\n",
       "            <tr>\n",
       "                                        <th id=\"T_8c415012_a7f0_11ea_9bab_f995b4c05226level2_row5\" class=\"row_heading level2 row5\" >2016-05-12</th>\n",
       "                        <td id=\"T_8c415012_a7f0_11ea_9bab_f995b4c05226row5_col0\" class=\"data row5 col0\" >2.000000</td>\n",
       "                        <td id=\"T_8c415012_a7f0_11ea_9bab_f995b4c05226row5_col1\" class=\"data row5 col1\" >2.000000</td>\n",
       "                        <td id=\"T_8c415012_a7f0_11ea_9bab_f995b4c05226row5_col2\" class=\"data row5 col2\" >2.000000</td>\n",
       "                        <td id=\"T_8c415012_a7f0_11ea_9bab_f995b4c05226row5_col3\" class=\"data row5 col3\" >2.000000</td>\n",
       "            </tr>\n",
       "            <tr>\n",
       "                                <th id=\"T_8c415012_a7f0_11ea_9bab_f995b4c05226level1_row6\" class=\"row_heading level1 row6\" rowspan=2>728</th>\n",
       "                        <th id=\"T_8c415012_a7f0_11ea_9bab_f995b4c05226level2_row6\" class=\"row_heading level2 row6\" >2016-01-01</th>\n",
       "                        <td id=\"T_8c415012_a7f0_11ea_9bab_f995b4c05226row6_col0\" class=\"data row6 col0\" >2.000000</td>\n",
       "                        <td id=\"T_8c415012_a7f0_11ea_9bab_f995b4c05226row6_col1\" class=\"data row6 col1\" >2.000000</td>\n",
       "                        <td id=\"T_8c415012_a7f0_11ea_9bab_f995b4c05226row6_col2\" class=\"data row6 col2\" >2.000000</td>\n",
       "                        <td id=\"T_8c415012_a7f0_11ea_9bab_f995b4c05226row6_col3\" class=\"data row6 col3\" >2.000000</td>\n",
       "            </tr>\n",
       "            <tr>\n",
       "                                        <th id=\"T_8c415012_a7f0_11ea_9bab_f995b4c05226level2_row7\" class=\"row_heading level2 row7\" >2016-05-12</th>\n",
       "                        <td id=\"T_8c415012_a7f0_11ea_9bab_f995b4c05226row7_col0\" class=\"data row7 col0\" >2.000000</td>\n",
       "                        <td id=\"T_8c415012_a7f0_11ea_9bab_f995b4c05226row7_col1\" class=\"data row7 col1\" >2.000000</td>\n",
       "                        <td id=\"T_8c415012_a7f0_11ea_9bab_f995b4c05226row7_col2\" class=\"data row7 col2\" >2.000000</td>\n",
       "                        <td id=\"T_8c415012_a7f0_11ea_9bab_f995b4c05226row7_col3\" class=\"data row7 col3\" >2.000000</td>\n",
       "            </tr>\n",
       "    </tbody></table>"
      ],
      "text/plain": [
       "<pandas.io.formats.style.Styler at 0x7f1d55d7b910>"
      ]
     },
     "execution_count": 51,
     "metadata": {},
     "output_type": "execute_result"
    }
   ],
   "source": [
    "import seaborn as sns\n",
    "df = pd.DataFrame.from_records(np.ones((16,4)))\n",
    "df['Area'] = ['DK1','DK2']*8\n",
    "df['Window'] = (['728']*4 + ['364']*4)*2\n",
    "df['Start date'] = (['2016-01-01']*2 + ['2016-05-12']*2)*4\n",
    "df = df.groupby(['Area','Window','Start date']).sum()\n",
    "df = df.rename(columns={0: \"Model 1\", 1: \"Model 2\", 2: \"Model 3\", 3: \"Model 4\"})\n",
    "# df.set_index(['area', 'window'], inplace=True)\n",
    "\n",
    "cm = sns.light_palette('green', as_cmap=True)\n",
    "df = df.style.background_gradient(cmap=cm, low=0, high=1)\n",
    "\n",
    "df"
   ]
  },
  {
   "cell_type": "code",
   "execution_count": null,
   "metadata": {},
   "outputs": [],
   "source": []
  }
 ],
 "metadata": {
  "kernelspec": {
   "display_name": "Python 3",
   "language": "python",
   "name": "python3"
  },
  "language_info": {
   "codemirror_mode": {
    "name": "ipython",
    "version": 3
   },
   "file_extension": ".py",
   "mimetype": "text/x-python",
   "name": "python",
   "nbconvert_exporter": "python",
   "pygments_lexer": "ipython3",
   "version": "3.7.6"
  }
 },
 "nbformat": 4,
 "nbformat_minor": 4
}
