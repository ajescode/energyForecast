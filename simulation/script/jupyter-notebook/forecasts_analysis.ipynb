{
 "cells": [
  {
   "cell_type": "code",
   "execution_count": 18,
   "metadata": {},
   "outputs": [],
   "source": [
    "import pandas as pd\n",
    "from sklearn import metrics\n",
    "\n",
    "areas = ['DK1','DK2']\n",
    "files = ['consumption','price']\n",
    "\n",
    "data_dir = \"../../data/data_sanitized/\"\n",
    "forecast_dir = 'forecasts/'\n",
    "\n",
    "data = {}\n",
    "for file in files:\n",
    "    data[file] = {}\n",
    "    for area in areas:\n",
    "        data[file][area] = pd.read_csv(data_dir + file+\"_\"+ area+\".csv\")\n",
    "\n"
   ]
  },
  {
   "cell_type": "code",
   "execution_count": 19,
   "metadata": {},
   "outputs": [],
   "source": [
    "def get_forecast_file(no):\n",
    "    return pd.read_csv(forecast_dir + no +\".csv\")"
   ]
  },
  {
   "cell_type": "code",
   "execution_count": 20,
   "metadata": {},
   "outputs": [],
   "source": [
    "\n",
    "forecasts_file = forecast_dir + 'files.txt'\n",
    "forecasts = {}\n",
    "\n",
    "with open(forecasts_file, 'r+') as f:\n",
    "    lines = f.read().splitlines()\n",
    "    if not lines:\n",
    "        print('Empty file')\n",
    "    for line in lines:\n",
    "        cur_line = line.split('.', 1)\n",
    "        no = cur_line[0]\n",
    "        cur_line[1] =  cur_line[1].split('|')\n",
    "        forecasts[no] = {\"data\":get_forecast_file(no),'file':cur_line[1][0],'area':cur_line[1][1], 'variables':cur_line[1][4]}"
   ]
  },
  {
   "cell_type": "code",
   "execution_count": null,
   "metadata": {},
   "outputs": [],
   "source": []
  },
  {
   "cell_type": "code",
   "execution_count": 21,
   "metadata": {},
   "outputs": [],
   "source": [
    "forecasts_mae = {}\n",
    "for f in forecasts:\n",
    "    first_index = forecasts[f]['data'].iloc[0,0]\n",
    "    last_index = forecasts[f]['data'].iloc[-1,0]\n",
    "    y_pred = forecasts[f]['data'].loc[:,'0':'23']\n",
    "    y_true = data[forecasts[f]['file']][forecasts[f]['area']].loc[first_index:last_index,'0':'23']\n",
    "    forecasts_mae[f] = metrics.mean_absolute_error(y_true,y_pred)"
   ]
  },
  {
   "cell_type": "code",
   "execution_count": 22,
   "metadata": {},
   "outputs": [
    {
     "data": {
      "text/plain": [
       "{'1': 31.78635869099986,\n",
       " '2': 220.0644089528761,\n",
       " '3': 220.0644089528761,\n",
       " '4': 226.16263042797723,\n",
       " '5': 31.465149320473444,\n",
       " '6': 60.238879866388025}"
      ]
     },
     "execution_count": 22,
     "metadata": {},
     "output_type": "execute_result"
    }
   ],
   "source": [
    "forecasts_mae"
   ]
  },
  {
   "cell_type": "code",
   "execution_count": null,
   "metadata": {},
   "outputs": [],
   "source": []
  }
 ],
 "metadata": {
  "kernelspec": {
   "display_name": "Python 3",
   "language": "python",
   "name": "python3"
  },
  "language_info": {
   "codemirror_mode": {
    "name": "ipython",
    "version": 3
   },
   "file_extension": ".py",
   "mimetype": "text/x-python",
   "name": "python",
   "nbconvert_exporter": "python",
   "pygments_lexer": "ipython3",
   "version": "3.7.6"
  }
 },
 "nbformat": 4,
 "nbformat_minor": 4
}
