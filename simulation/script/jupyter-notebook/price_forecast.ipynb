{
 "cells": [
  {
   "cell_type": "code",
   "execution_count": 80,
   "metadata": {},
   "outputs": [],
   "source": [
    "import pandas as pd\n",
    "import numpy as np\n",
    "import matplotlib.pyplot as plt\n",
    "import math\n",
    "from scipy import stats\n",
    "from IPython.display import display\n",
    "import ipywidgets as widgets\n",
    "\n",
    "#setup\n",
    "area = 'DK1'\n",
    "file = 'consumption'\n",
    "fileName = file+'_'+area+'.csv'\n",
    "window = 728\n",
    "start_date=False\n",
    "save_files=True\n",
    "dir_forecasts = 'forecasts/'\n",
    "file_forecasts = 'forecasts/files.txt'\n",
    "variables_list=['get_variables_neg_day1','get_variables_neg_day2','get_variables_neg_day7','consumption_prognosis']\n",
    "set_other_settings()\n",
    "\n",
    "#get_variables_neg_day1,get_variables_neg_day2,get_variables_neg_day7,consumption_prognosis"
   ]
  },
  {
   "cell_type": "code",
   "execution_count": 10,
   "metadata": {},
   "outputs": [],
   "source": [
    "consumption_prognosis = pd.read_csv(\"../../data/data_sanitized/consumption_prognosis_\"+area+\".csv\") "
   ]
  },
  {
   "cell_type": "code",
   "execution_count": 79,
   "metadata": {
    "scrolled": true
   },
   "outputs": [],
   "source": [
    "def set_other_settings():\n",
    "    global data, data_shape, dayofweek, holidays, median, mad, variables\n",
    "    data = pd.read_csv(\"../../data/data_sanitized/\"+fileName) \n",
    "    data['date']= pd.to_datetime(data['date'],format='%Y-%m-%d')\n",
    "    dayofweek = data['date'].dt.dayofweek\n",
    "    holidays = data['holiday']\n",
    "    data = data.drop(columns=['holiday'])\n",
    "\n",
    "    data_shape = get_data_shape()\n",
    "\n",
    "    variables = []\n",
    "    for key in variables_list:\n",
    "        if key == 'get_variables_neg_day1':\n",
    "            v = get_variables_neg_day(1)\n",
    "        elif key == 'get_variables_neg_day2':\n",
    "            v = get_variables_neg_day(2)\n",
    "        elif key == 'get_variables_neg_day7':\n",
    "            v = get_variables_neg_day(7)\n",
    "        elif key == 'consumption_prognosis':\n",
    "            v = get_variables_prognosis(consumption_prognosis)\n",
    "        variables.append(v)\n",
    "        \n",
    "def get_data_shape():\n",
    "    return count_frame_indeces(data,window,start_date)"
   ]
  },
  {
   "cell_type": "code",
   "execution_count": null,
   "metadata": {},
   "outputs": [],
   "source": []
  },
  {
   "cell_type": "code",
   "execution_count": 72,
   "metadata": {},
   "outputs": [],
   "source": [
    "def print_settings():\n",
    "    return '|'.join([file, area, str(window), str(start_date),str(variables_list)])\n",
    "\n",
    "# print(print_settings())"
   ]
  },
  {
   "cell_type": "code",
   "execution_count": null,
   "metadata": {},
   "outputs": [],
   "source": []
  },
  {
   "cell_type": "code",
   "execution_count": 42,
   "metadata": {},
   "outputs": [],
   "source": [
    "def count_frame_indeces(data_f,window_f,start_date_f):\n",
    "    shape = data_f.shape\n",
    "    start_index = shape[0]-2*window_f\n",
    "    last_index = shape[0]-window_f\n",
    "    if(start_date_f):\n",
    "        start_date_index = int(data_f[data_f['date']==start_date_f].index[0])\n",
    "        if(start_date_index > start_index):\n",
    "            print(start_index)\n",
    "            raise Exception('Start date is too big')\n",
    "        start_index = start_date_index\n",
    "        last_index = start_date_index + window_f\n",
    "    last_index -= 1\n",
    "    return (start_index,last_index)"
   ]
  },
  {
   "cell_type": "code",
   "execution_count": null,
   "metadata": {},
   "outputs": [],
   "source": []
  },
  {
   "cell_type": "code",
   "execution_count": 29,
   "metadata": {},
   "outputs": [],
   "source": [
    "def count_median_mad(data):\n",
    "    data = filter_hours(data)\n",
    "    median = np.median(data, axis = 0)\n",
    "    mad = stats.median_absolute_deviation(data)\n",
    "    return (median,mad)"
   ]
  },
  {
   "cell_type": "code",
   "execution_count": 57,
   "metadata": {},
   "outputs": [],
   "source": [
    "#counting MAD\n",
    "def standarize(data,median,mad):\n",
    "    mad = np.tile(mad, (data.shape[0],1))\n",
    "    return np.arcsinh((data - np.tile(median, (data.shape[0],1)))/mad)"
   ]
  },
  {
   "cell_type": "code",
   "execution_count": null,
   "metadata": {},
   "outputs": [],
   "source": []
  },
  {
   "cell_type": "code",
   "execution_count": 49,
   "metadata": {},
   "outputs": [],
   "source": [
    "def unstandarize(data,median,mad):\n",
    "    data = np.sinh(data)\n",
    "    data = data * mad + median\n",
    "    return data"
   ]
  },
  {
   "cell_type": "code",
   "execution_count": null,
   "metadata": {},
   "outputs": [],
   "source": []
  },
  {
   "cell_type": "code",
   "execution_count": null,
   "metadata": {},
   "outputs": [],
   "source": []
  },
  {
   "cell_type": "code",
   "execution_count": 258,
   "metadata": {},
   "outputs": [],
   "source": [
    "def data_shape(data):\n",
    "    print(\"Length (days): \" + str(data.shape[0]))\n",
    "    print(\"Width: \" + str(data.shape[1]))\n",
    "    print(\"First date: \" + str(data.iloc[0,0]))\n",
    "    print(\"Last date: \" + str(data.iloc[data.shape[0]-1,0]))\n",
    "# data_shape(data)"
   ]
  },
  {
   "cell_type": "code",
   "execution_count": 28,
   "metadata": {},
   "outputs": [],
   "source": [
    "def filter_hours(data):\n",
    "    return data.loc[:,'0':'23']"
   ]
  },
  {
   "cell_type": "code",
   "execution_count": 23,
   "metadata": {},
   "outputs": [],
   "source": [
    "#get variables -n days\n",
    "\n",
    "#types of variables\n",
    "#each_hour - for each our and for day (1,24)\n",
    "#each_day - for each day (1,1)\n",
    "def get_variables_neg_day(n=1):\n",
    "    data_copy = filter_hours(data)\n",
    "    d = pd.DataFrame(np.zeros((n, len(data_copy.columns))))\n",
    "    d.columns = data_copy.columns\n",
    "    d = d.append(data_copy)\n",
    "    d = d.reset_index(drop=True)\n",
    "    d = d.drop(d.tail(n).index) \n",
    "    return (\"each_hour\",d )"
   ]
  },
  {
   "cell_type": "code",
   "execution_count": 24,
   "metadata": {},
   "outputs": [],
   "source": [
    "def get_variables_holidays(holidays):\n",
    "    return (\"each_day\",holidays )"
   ]
  },
  {
   "cell_type": "code",
   "execution_count": 25,
   "metadata": {},
   "outputs": [],
   "source": [
    "def get_variables_dayofweek(dayofweek):\n",
    "    var_dayofweek = np.zeros((dayofweek.shape[0],7))\n",
    "    for i in range(0,7):\n",
    "        var_dayofweek[:,i] = dayofweek==i\n",
    "    return (\"each_day\",var_dayofweek )"
   ]
  },
  {
   "cell_type": "code",
   "execution_count": 26,
   "metadata": {},
   "outputs": [],
   "source": [
    "def get_variables_prognosis(prognosis):\n",
    "    data = filter_hours(prognosis)\n",
    "    return (\"each_hour\",data)\n",
    "\n",
    "def get_variables_consumption_prognosis(prognosis):\n",
    "    return (\"each_day\",get_variables_prognosis(prognosis))\n",
    "\n",
    "def get_variables_wind_power_prognosis(prognosis):\n",
    "    return (\"each_day\",get_variables_prognosis(prognosis))"
   ]
  },
  {
   "cell_type": "code",
   "execution_count": 45,
   "metadata": {},
   "outputs": [],
   "source": [
    "#data: full dataframe with all varibales, \n",
    "#window: window for forecasting, integer, ex. 730\n",
    "#start_date: first data of window (if False takes last date - windowd), ex. '2016-05-05'\n",
    "#variables: arrays of all variables []\n",
    "\n",
    "def forecast(data_f,window_f,data_shape_f,variables):\n",
    "    shape = data_f.shape\n",
    "    start_index, last_index = data_shape_f\n",
    "    out = widgets.HTML()\n",
    "    display(out)\n",
    "\n",
    "    pred_data = data_f.copy()\n",
    "    pred_data = pred_data.drop(columns=['date'])\n",
    "    \n",
    "\n",
    "    test_data = pred_data.copy()\n",
    "    pred_data.loc[last_index+1:,'0':'23'] = 0.0\n",
    "    for i in pred_data.loc[last_index+1:].index:\n",
    "        out.value=\"Forecasting row \" + str(i) + \", left: \" + str(shape[0]-i-1)\n",
    "        pred_data.loc[i,'0':'23'] = forecast_row(i,window_f,test_data,variables)\n",
    "    \n",
    "    \n",
    "    pred_data = pred_data.loc[last_index+1:,:]\n",
    "    \n",
    "    real_data = data_f.loc[last_index+1:,:]\n",
    "    \n",
    "    if(save_files):\n",
    "        with open(file_forecasts, 'r+') as f:\n",
    "            lines = f.read().splitlines()\n",
    "            if not lines:\n",
    "                no = str(0)\n",
    "            else:\n",
    "                last_line = lines[-1]\n",
    "                no = last_line.split('.', 1)[0]\n",
    "            no = str(int(no)+1)\n",
    "            f.write(no + \".\" + print_settings()+\"\\n\")\n",
    "            \n",
    "        pred_data.to_csv(dir_forecasts + no + \".csv\", index=True)\n",
    "\n",
    "    return (real_data, pred_data)\n",
    "\n",
    "def f():\n",
    "    return forecast(data,window,get_data_shape(),variables)"
   ]
  },
  {
   "cell_type": "code",
   "execution_count": 82,
   "metadata": {},
   "outputs": [
    {
     "data": {
      "application/vnd.jupyter.widget-view+json": {
       "model_id": "3b05cb46aa2b41088dc28d4f7c0c86f3",
       "version_major": 2,
       "version_minor": 0
      },
      "text/plain": [
       "HTML(value='')"
      ]
     },
     "metadata": {},
     "output_type": "display_data"
    },
    {
     "data": {
      "text/plain": [
       "(           date       0       1       2       3       4       5       6  \\\n",
       " 1584 2020-05-03  1701.0  1676.0  1656.0  1656.0  1658.0  1655.0  1678.0   \n",
       " 1585 2020-05-04  1848.0  1795.0  1791.0  1805.0  1859.0  1973.0  2234.0   \n",
       " 1586 2020-05-05  1968.0  1925.0  1900.0  1872.0  1915.0  2019.0  2285.0   \n",
       " 1587 2020-05-06  1894.0  1876.0  1854.0  1889.0  1943.0  2031.0  2310.0   \n",
       " 1588 2020-05-07  1931.0  1858.0  1826.0  1873.0  1909.0  2020.0  2272.0   \n",
       " 1589 2020-05-08  1839.0  1795.0  1765.0  1754.0  1779.0  1780.0  1861.0   \n",
       " 1590 2020-05-09  1752.0  1691.0  1665.0  1654.0  1662.0  1672.0  1735.0   \n",
       " 1591 2020-05-10  1721.0  1658.0  1635.0  1617.0  1620.0  1615.0  1691.0   \n",
       " 1592 2020-05-11  1893.0  1827.0  1818.0  1872.0  1888.0  2027.0  2293.0   \n",
       " 1593 2020-05-12  2002.0  1945.0  1936.0  1948.0  1989.0  2085.0  2345.0   \n",
       " \n",
       "            7       8  ...      14      15      16      17      18      19  \\\n",
       " 1584  1797.0  1983.0  ...  1988.0  1953.0  2026.0  2237.0  2260.0  2155.0   \n",
       " 1585  2600.0  2724.0  ...  2673.0  2569.0  2538.0  2715.0  2644.0  2526.0   \n",
       " 1586  2614.0  2751.0  ...  2791.0  2648.0  2570.0  2686.0  2581.0  2452.0   \n",
       " 1587  2663.0  2768.0  ...  2618.0  2519.0  2521.0  2704.0  2622.0  2481.0   \n",
       " 1588  2631.0  2792.0  ...  2698.0  2577.0  2505.0  2623.0  2583.0  2485.0   \n",
       " 1589  2078.0  2215.0  ...  2259.0  2223.0  2204.0  2318.0  2340.0  2185.0   \n",
       " 1590  1890.0  2086.0  ...  2088.0  2040.0  2080.0  2249.0  2246.0  2131.0   \n",
       " 1591  1818.0  1975.0  ...  2172.0  2159.0  2154.0  2408.0  2444.0  2304.0   \n",
       " 1592  2580.0  2796.0  ...  2802.0  2669.0  2667.0  2837.0  2769.0  2597.0   \n",
       " 1593  2734.0  2872.0  ...  2791.0  2705.0  2667.0  2787.0  2741.0  2566.0   \n",
       " \n",
       "           20      21      22      23  \n",
       " 1584  2061.0  2016.0  1956.0  1862.0  \n",
       " 1585  2418.0  2302.0  2197.0  2083.0  \n",
       " 1586  2318.0  2273.0  2161.0  2008.0  \n",
       " 1587  2345.0  2293.0  2229.0  2052.0  \n",
       " 1588  2367.0  2265.0  2181.0  2000.0  \n",
       " 1589  2055.0  2006.0  1957.0  1843.0  \n",
       " 1590  2033.0  1990.0  1928.0  1793.0  \n",
       " 1591  2193.0  2163.0  2108.0  2009.0  \n",
       " 1592  2477.0  2343.0  2264.0  2117.0  \n",
       " 1593  2459.0  2381.0  2255.0  2147.0  \n",
       " \n",
       " [10 rows x 25 columns],\n",
       "                 0            1            2            3            4  \\\n",
       " 1584  1667.733269  1579.674930  1622.295349  1631.975178  1569.120076   \n",
       " 1585  1845.505924  1801.227275  1784.351262  1836.895585  1849.994501   \n",
       " 1586  2003.272780  1881.140454  1843.932188  1936.331752  1964.335678   \n",
       " 1587  1933.137397  1905.161190  1870.986695  1874.670468  1936.269135   \n",
       " 1588  1924.589623  1863.220622  1849.792692  1866.143741  1923.758583   \n",
       " 1589  1883.091048  1807.915983  1768.305528  1693.354990  1557.521307   \n",
       " 1590  1756.373731  1694.885790  1629.157056  1648.763324  1636.198607   \n",
       " 1591  1668.165390  1615.402348  1612.094877  1547.861996  1536.093010   \n",
       " 1592  1930.097991  1822.172256  1838.205812  1824.987857  1869.152258   \n",
       " 1593  1954.497300  1948.915813  1910.215199  1879.860529  1911.801266   \n",
       " \n",
       "                 5            6            7            8            9  ...  \\\n",
       " 1584  1520.257367  1438.429754  1210.929678  1660.742278  1976.564842  ...   \n",
       " 1585  1951.441076  2258.453709  2644.781469  2782.779303  2838.368255  ...   \n",
       " 1586  2065.770210  2313.231700  2575.026145  2741.139059  2773.534055  ...   \n",
       " 1587  2023.202607  2282.650476  2596.919807  2744.461466  2783.263162  ...   \n",
       " 1588  2011.193063  2289.889621  2620.035764  2756.295304  2752.299729  ...   \n",
       " 1589  1713.669003  1658.663423  1331.696572  1687.603867  1667.032604  ...   \n",
       " 1590  1535.791632  1606.435980  1774.289461  2036.967029  2112.547786  ...   \n",
       " 1591  1452.946754  1452.777111  1716.273146  1892.889989  1993.232490  ...   \n",
       " 1592  2047.230324  2311.927552  2623.286683  2750.064761  2796.368021  ...   \n",
       " 1593  2107.785976  2382.038356  2707.259037  2898.868397  2878.876157  ...   \n",
       " \n",
       "                14           15           16           17           18  \\\n",
       " 1584  1888.003374  1959.938675  2045.636412  2149.982202  2222.105767   \n",
       " 1585  2695.885538  2817.147558  2596.457830  2627.218914  2586.087406   \n",
       " 1586  2830.619104  2652.467377  2517.731146  2699.841796  2521.735544   \n",
       " 1587  2651.993507  2496.280540  2492.304137  2706.350560  2661.724009   \n",
       " 1588  2709.984404  2590.858052  2548.955304  2655.312807  2544.957893   \n",
       " 1589  2323.997971  2270.029252  2272.343101  2392.641587  2315.355222   \n",
       " 1590  2161.778504  2055.840931  2071.478052  2249.127041  2257.286974   \n",
       " 1591  2184.241970  2142.804708  2180.574150  2429.147188  2450.043836   \n",
       " 1592  2784.467571  2646.699784  2627.544381  2898.800955  2862.477060   \n",
       " 1593  2772.822083  2671.358909  2651.115446  2773.580203  2737.713625   \n",
       " \n",
       "                19           20           21           22           23  \n",
       " 1584  2129.233467  2093.062446  2071.680431  1908.010494  1896.059999  \n",
       " 1585  2460.778758  2402.275416  2344.093378  2180.779921  2066.179278  \n",
       " 1586  2467.766270  2369.274634  2281.995664  2184.672361  2016.991812  \n",
       " 1587  2511.980252  2361.385288  2243.863123  2183.889710  2070.059765  \n",
       " 1588  2477.460637  2378.578550  2255.239858  2160.494888  2038.955029  \n",
       " 1589  2142.108918  2008.500407  2033.853739  1907.237027  1809.518498  \n",
       " 1590  2088.322659  1983.782911  1855.444351  1858.517666  1830.837104  \n",
       " 1591  2346.850683  2192.357361  2097.314405  2054.313566  2006.416371  \n",
       " 1592  2677.955790  2483.601214  2390.508814  2291.376814  2173.506127  \n",
       " 1593  2570.909350  2435.948299  2416.196119  2336.170524  2095.968134  \n",
       " \n",
       " [10 rows x 24 columns])"
      ]
     },
     "execution_count": 82,
     "metadata": {},
     "output_type": "execute_result"
    }
   ],
   "source": [
    "window=10\n",
    "f()"
   ]
  },
  {
   "cell_type": "code",
   "execution_count": 69,
   "metadata": {},
   "outputs": [],
   "source": [
    "#index for which forecast should be calculated\n",
    "#window - number of rows taken for window\n",
    "#data - filtered data - only with index and hour columns\n",
    "#array of variables - definition above\n",
    "def forecast_row(index, window, data, variables):\n",
    "    row = np.zeros((1,24))\n",
    "    sizeB = 1 #size of variables in modelt\n",
    "    data_v = pd.DataFrame.from_records(np.ones((1,data.shape[0])))\n",
    "    \n",
    "#counting MAD and median\n",
    "    median, mad = count_median_mad(data.loc[index-window:index-1])\n",
    "    \n",
    "\n",
    "    data = standarize(data,median,mad)\n",
    "\n",
    "#counting variables vector size in model\n",
    "    for v in variables:\n",
    "        if v[0]=='each_hour':\n",
    "            sizeB += 1\n",
    "        elif v[0]=='each_day':\n",
    "            sizeB += v[1].shape[1]\n",
    "            \n",
    "            \n",
    "#counting \n",
    "    variablesMatrix = pd.DataFrame().from_records(np.ones((data.shape[0],sizeB)))\n",
    "    for h in range(row.shape[1]):\n",
    "        i=0\n",
    "        \n",
    "        for v in variables:\n",
    "            if v[0]=='each_hour':\n",
    "                variablesMatrix[i] = v[1][str(h)]\n",
    "            elif v[0]=='each_day':\n",
    "                for k in range(v[1].shape[1]):\n",
    "                    variablesMatrix[i] = v[1][k]\n",
    "            i+=1\n",
    "        row[0,h] = getParametersVector(index,h, window,data, variablesMatrix) @ getVariablesVector(index,variablesMatrix)\n",
    "    row = unstandarize(row,median,mad)\n",
    "    \n",
    "    return row\n",
    "\n",
    "def getParametersVector(index,h,window,data,variablesMatrix):\n",
    "    Y = data.loc[index-window:index-1,str(h)]\n",
    "    X = variablesMatrix.loc[index-window:index-1,:]\n",
    "    \n",
    "    return np.dot(np.dot(np.linalg.inv(np.dot(X.T,X)),X.T),Y)\n",
    "\n",
    "def getVariablesVector(index,variables):\n",
    "    return variables.loc[index,:]\n",
    "\n",
    "# forecast_row(874,730,data,variables)"
   ]
  },
  {
   "cell_type": "code",
   "execution_count": 70,
   "metadata": {},
   "outputs": [
    {
     "data": {
      "application/vnd.jupyter.widget-view+json": {
       "model_id": "d405ceaf9bb741bfb3b98ce5072d306e",
       "version_major": 2,
       "version_minor": 0
      },
      "text/plain": [
       "HTML(value='')"
      ]
     },
     "metadata": {},
     "output_type": "display_data"
    },
    {
     "ename": "NameError",
     "evalue": "name 'print_settings' is not defined",
     "output_type": "error",
     "traceback": [
      "\u001b[0;31m---------------------------------------------------------------------------\u001b[0m",
      "\u001b[0;31mNameError\u001b[0m                                 Traceback (most recent call last)",
      "\u001b[0;32m<ipython-input-70-c43e34e6d405>\u001b[0m in \u001b[0;36m<module>\u001b[0;34m\u001b[0m\n\u001b[0;32m----> 1\u001b[0;31m \u001b[0mf\u001b[0m\u001b[0;34m(\u001b[0m\u001b[0;34m)\u001b[0m\u001b[0;34m\u001b[0m\u001b[0;34m\u001b[0m\u001b[0m\n\u001b[0m",
      "\u001b[0;32m<ipython-input-45-d3192d50a2c0>\u001b[0m in \u001b[0;36mf\u001b[0;34m()\u001b[0m\n\u001b[1;32m     41\u001b[0m \u001b[0;34m\u001b[0m\u001b[0m\n\u001b[1;32m     42\u001b[0m \u001b[0;32mdef\u001b[0m \u001b[0mf\u001b[0m\u001b[0;34m(\u001b[0m\u001b[0;34m)\u001b[0m\u001b[0;34m:\u001b[0m\u001b[0;34m\u001b[0m\u001b[0;34m\u001b[0m\u001b[0m\n\u001b[0;32m---> 43\u001b[0;31m     \u001b[0;32mreturn\u001b[0m \u001b[0mforecast\u001b[0m\u001b[0;34m(\u001b[0m\u001b[0mdata\u001b[0m\u001b[0;34m,\u001b[0m\u001b[0mwindow\u001b[0m\u001b[0;34m,\u001b[0m\u001b[0mget_data_shape\u001b[0m\u001b[0;34m(\u001b[0m\u001b[0;34m)\u001b[0m\u001b[0;34m,\u001b[0m\u001b[0mvariables\u001b[0m\u001b[0;34m)\u001b[0m\u001b[0;34m\u001b[0m\u001b[0;34m\u001b[0m\u001b[0m\n\u001b[0m",
      "\u001b[0;32m<ipython-input-45-d3192d50a2c0>\u001b[0m in \u001b[0;36mforecast\u001b[0;34m(data_f, window_f, data_shape_f, variables)\u001b[0m\n\u001b[1;32m     34\u001b[0m                 \u001b[0mno\u001b[0m \u001b[0;34m=\u001b[0m \u001b[0mlast_line\u001b[0m\u001b[0;34m.\u001b[0m\u001b[0msplit\u001b[0m\u001b[0;34m(\u001b[0m\u001b[0;34m'.'\u001b[0m\u001b[0;34m,\u001b[0m \u001b[0;36m1\u001b[0m\u001b[0;34m)\u001b[0m\u001b[0;34m[\u001b[0m\u001b[0;36m0\u001b[0m\u001b[0;34m]\u001b[0m\u001b[0;34m\u001b[0m\u001b[0;34m\u001b[0m\u001b[0m\n\u001b[1;32m     35\u001b[0m             \u001b[0mno\u001b[0m \u001b[0;34m=\u001b[0m \u001b[0mstr\u001b[0m\u001b[0;34m(\u001b[0m\u001b[0mint\u001b[0m\u001b[0;34m(\u001b[0m\u001b[0mno\u001b[0m\u001b[0;34m)\u001b[0m\u001b[0;34m+\u001b[0m\u001b[0;36m1\u001b[0m\u001b[0;34m)\u001b[0m\u001b[0;34m\u001b[0m\u001b[0;34m\u001b[0m\u001b[0m\n\u001b[0;32m---> 36\u001b[0;31m             \u001b[0mf\u001b[0m\u001b[0;34m.\u001b[0m\u001b[0mwrite\u001b[0m\u001b[0;34m(\u001b[0m\u001b[0mno\u001b[0m \u001b[0;34m+\u001b[0m \u001b[0;34m\".\"\u001b[0m \u001b[0;34m+\u001b[0m \u001b[0mprint_settings\u001b[0m\u001b[0;34m(\u001b[0m\u001b[0;34m)\u001b[0m\u001b[0;34m+\u001b[0m\u001b[0;34m\"\\n\"\u001b[0m\u001b[0;34m)\u001b[0m\u001b[0;34m\u001b[0m\u001b[0;34m\u001b[0m\u001b[0m\n\u001b[0m\u001b[1;32m     37\u001b[0m \u001b[0;34m\u001b[0m\u001b[0m\n\u001b[1;32m     38\u001b[0m         \u001b[0mpred_data\u001b[0m\u001b[0;34m.\u001b[0m\u001b[0mto_csv\u001b[0m\u001b[0;34m(\u001b[0m\u001b[0mdir_forecasts\u001b[0m \u001b[0;34m+\u001b[0m \u001b[0mno\u001b[0m \u001b[0;34m+\u001b[0m \u001b[0;34m\".csv\"\u001b[0m\u001b[0;34m,\u001b[0m \u001b[0mindex\u001b[0m\u001b[0;34m=\u001b[0m\u001b[0;32mTrue\u001b[0m\u001b[0;34m)\u001b[0m\u001b[0;34m\u001b[0m\u001b[0;34m\u001b[0m\u001b[0m\n",
      "\u001b[0;31mNameError\u001b[0m: name 'print_settings' is not defined"
     ]
    }
   ],
   "source": [
    "f()"
   ]
  },
  {
   "cell_type": "code",
   "execution_count": 17,
   "metadata": {},
   "outputs": [],
   "source": []
  },
  {
   "cell_type": "code",
   "execution_count": 510,
   "metadata": {},
   "outputs": [
    {
     "data": {
      "text/plain": [
       "(1104, 1348)"
      ]
     },
     "execution_count": 510,
     "metadata": {},
     "output_type": "execute_result"
    }
   ],
   "source": []
  },
  {
   "cell_type": "code",
   "execution_count": 508,
   "metadata": {},
   "outputs": [],
   "source": [
    "def get_data_shape():\n",
    "    shape = data.shape\n",
    "    start_index = shape[0]-2*window\n",
    "    last_index = shape[0]-window\n",
    "    if(start_date):\n",
    "        start_date_index = int(data[data['date']==start_date].index[0])\n",
    "        if(start_date_index > start_index):\n",
    "            print(start_index)\n",
    "            raise Exception('Start date is too big')\n",
    "        start_index = start_date_index\n",
    "        last_index = start_date_index + window\n",
    "    last_index -= 1\n",
    "    return (start_index,last_index)"
   ]
  },
  {
   "cell_type": "code",
   "execution_count": 471,
   "metadata": {},
   "outputs": [],
   "source": []
  },
  {
   "cell_type": "code",
   "execution_count": 485,
   "metadata": {
    "scrolled": false
   },
   "outputs": [
    {
     "data": {
      "text/plain": [
       "2427"
      ]
     },
     "execution_count": 485,
     "metadata": {},
     "output_type": "execute_result"
    }
   ],
   "source": []
  },
  {
   "cell_type": "code",
   "execution_count": 486,
   "metadata": {},
   "outputs": [],
   "source": []
  },
  {
   "cell_type": "code",
   "execution_count": null,
   "metadata": {},
   "outputs": [],
   "source": []
  }
 ],
 "metadata": {
  "kernelspec": {
   "display_name": "Python 3",
   "language": "python",
   "name": "python3"
  },
  "language_info": {
   "codemirror_mode": {
    "name": "ipython",
    "version": 3
   },
   "file_extension": ".py",
   "mimetype": "text/x-python",
   "name": "python",
   "nbconvert_exporter": "python",
   "pygments_lexer": "ipython3",
   "version": "3.7.6"
  }
 },
 "nbformat": 4,
 "nbformat_minor": 4
}
