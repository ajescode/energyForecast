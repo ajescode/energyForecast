{
 "cells": [
  {
   "cell_type": "code",
   "execution_count": null,
   "metadata": {},
   "outputs": [],
   "source": [
    "import pandas as pd\n",
    "import matplotlib.pyplot as plt\n",
    "import numpy as np\n",
    "import math"
   ]
  },
  {
   "cell_type": "code",
   "execution_count": null,
   "metadata": {},
   "outputs": [],
   "source": [
    "file = 'consumption'\n",
    "area = 'DK2'\n",
    "fileName = file + \"_\" + area\n",
    "\n",
    "file_uppercase = 'Consumption prognosis'\n",
    "file_lowercase = 'consumption prognosis'\n",
    "\n",
    "#config\n",
    "save_plots = True\n",
    "\n",
    "data = pd.read_csv(\"../../data/data_sanitized/\"+fileName+\".csv\") \n",
    "data['date']= pd.to_datetime(data['date'],format='%Y-%m-%d')\n",
    "str_week_list = ['Monday','Tuesday','Wednesday','Thursday','Friday','Saturday','Sunday']\n",
    "ylabel = file_uppercase+' [MWh]'\n",
    "ylabelTWh = file_uppercase+' [TWh]'\n",
    "\n",
    "title = {}\n",
    "title['avg_consumption_each_year'] = 'Average '+file_lowercase+' for each hour for years 2016-2020 (' + area + \")\"\n",
    "title['total_consumption_2019'] = 'Total '+file_lowercase+' per day for 2019 (' + area + \")\"\n",
    "title['total_consumption_2016_2019'] = 'Total '+file_lowercase+' for years 2016-2019 (' + area + \")\"\n",
    "title['median_per_dayofweek'] = 'Median '+file_lowercase+' for years 2016-2020 (' + area + \")\"\n",
    "title['std_per_dayofweek'] = 'Standard deviation of '+file_lowercase+' for years 2016-2020 (' + area + \")\"\n",
    "global_title = 'Average '+file_lowercase+' for years 2016-2020 (' + area + \")\"\n",
    "\n",
    "data['dayofweek'] = data['date'].dt.dayofweek\n",
    "data['year'] = data['date'].dt.year\n",
    "data['dayofyear'] = data['date'].dt.dayofyear\n",
    "\n",
    "\n",
    "data"
   ]
  },
  {
   "cell_type": "code",
   "execution_count": null,
   "metadata": {},
   "outputs": [],
   "source": [
    "def savePlot(name):\n",
    "    if(save_plots):\n",
    "        fileName = 'plots/'+ name + '_' + area\n",
    "        plt.savefig(fileName, bbox_inches='tight')"
   ]
  },
  {
   "cell_type": "code",
   "execution_count": null,
   "metadata": {},
   "outputs": [],
   "source": [
    "def draw_plot_hour(data_serie):\n",
    "    x_data = range(0, 24)\n",
    "    # create figure and axis\n",
    "    fig, ax = plt.subplots()\n",
    "    fig.set_figheight(10)\n",
    "    fig.set_figwidth(20)\n",
    "    # plot each column\n",
    "    # for column in columns:\n",
    "    ax.plot(data_serie)\n",
    "    # set title and legend\n",
    "    ax.set_title('Plot')\n",
    "    ax.legend()\n",
    "    \n",
    "def draw_plot_hour_for_year(data_frame, name='Plot', ylabel = 'y ax'):\n",
    "    x_data = range(0, 24)\n",
    "    # create figure and axis\n",
    "    fig, ax = plt.subplots()\n",
    "    fig.set_figheight(10)\n",
    "    fig.set_figwidth(20)\n",
    "    # plot each column\n",
    "    data_frame = data_frame.reindex(index=data_frame.index[::-1])\n",
    "    for index, row in data_frame.iterrows():\n",
    "        ax.plot(data_frame.loc[index], label=data_frame.loc[index].name)\n",
    "    # set title and legend\n",
    "    ax.set_title(name)\n",
    "    ax.legend(prop={'size': 20})\n",
    "    ax.set_xlabel('Hour')\n",
    "    ax.set_ylabel(ylabel)\n",
    "    \n",
    "def draw_two_plots_hour_for_year(data_frame, name=['Plot','Plot'], ylabel = 'y lab', global_title=global_title):\n",
    "    x_data = range(0, 24)\n",
    "    # create figure and axis\n",
    "    fig, ax = plt.subplots(nrows=2)\n",
    "    fig.set_figheight(10)\n",
    "    fig.set_figwidth(20)\n",
    "    st = fig.suptitle(global_title, fontsize=\"x-large\")\n",
    "    st.set_y(0.95)\n",
    "    \n",
    "    data_frame = data_frame.reindex(index=data_frame.index[::-1])\n",
    "    for holiday, new_df in data_frame.groupby(level=0):\n",
    "        for index, row in new_df.iterrows():\n",
    "            ax[index[0]].plot(new_df.loc[index], label=new_df.loc[index].name[1])\n",
    "            ax[index[0]].set_title(name[index[0]])\n",
    "            # set title and legend\n",
    "            ax[index[0]].legend(prop={'size': 15})\n",
    "            ax[index[0]].set_xlabel('Hour')\n",
    "            ax[index[0]].set_ylabel(ylabel)\n",
    "\n",
    "def draw_7_plots_hour_for_year(data_frame, name='Plot', ylabel = 'y lab', global_title=global_title):\n",
    "    x_data = range(0, 24)\n",
    "    # create figure and axis\n",
    "    fig, ax = plt.subplots(4, 2,sharey=True)\n",
    "    fig.delaxes(ax[3,1])\n",
    "    fig.set_figheight(14)\n",
    "    fig.set_figwidth(20)\n",
    "    fig.subplots_adjust(hspace=0.3)\n",
    "    st = fig.suptitle(global_title, fontsize=\"x-large\")\n",
    "    st.set_y(0.95)\n",
    "    \n",
    "    data_frame = data_frame.reindex(index=data_frame.index[::-1])\n",
    "    for workday, new_df in data_frame.groupby(level=0):\n",
    "        plot_index = int(workday/2),int(workday%2)\n",
    "        for index, row in new_df.iterrows():\n",
    "            ax[plot_index].plot(new_df.loc[index], label=new_df.loc[index].name[1])\n",
    "            ax[int(index[0]/2),int(index[0]%2)].set_title(name[index[0]])\n",
    "            # set title and legend\n",
    "            ax[plot_index].legend(prop={'size': 9})\n",
    "            ax[plot_index].set_xlabel('Hour')\n",
    "            ax[plot_index].set_ylabel(ylabel)\n",
    "            ax[plot_index].yaxis.set_tick_params(labelleft=True)\n",
    "            \n",
    "def draw_plot_dayofyear(data_frame, name='Plot', ylabel = ylabel):\n",
    "    # create figure and axis\n",
    "    fig, ax = plt.subplots()\n",
    "    fig.set_figheight(10)\n",
    "    fig.set_figwidth(20)\n",
    "    # plot each column\n",
    "    for year, new_df in data_frame.groupby(level=0):\n",
    "        ax.plot(data_frame.loc[year], label=year)\n",
    "    # set title and legend\n",
    "    ax.set_title(name)\n",
    "    ax.legend(prop={'size': 15})\n",
    "    ax.set_xlabel('Day of year')\n",
    "    ax.set_ylabel(ylabel)\n",
    "            \n",
    "def draw_simple_barplot_for_years(data_frame, name='Plot', ylabel = ylabel):\n",
    "    fig, ax = plt.subplots()\n",
    "    min_val = min(data_frame.iloc[:,0])\n",
    "    max_val = max(data_frame.iloc[:,0])\n",
    "    margin = (max_val - min_val)*3/10\n",
    "    plt.ylim([min_val - margin,max_val + margin])\n",
    "    ax.bar(data_frame.index,data_frame.iloc[:,0])\n",
    "    plt.xlabel('Year')\n",
    "    plt.ylabel(ylabel)\n",
    "    plt.title(name)\n",
    "    ax.set_xticks(data_frame.index)\n",
    "    \n",
    "def draw_plot_single_dayofyear(data_frame, name='Plot', ylabel = ylabel):\n",
    "    # create figure and axis\n",
    "    fig, ax = plt.subplots()\n",
    "    fig.set_figheight(10)\n",
    "    fig.set_figwidth(20)\n",
    "    # plot each column\n",
    "    ax.plot(data_frame, label=data_frame.index)\n",
    "    # set title and legend\n",
    "    ax.set_title(name)\n",
    "    ax.set_xlabel('Day of year')\n",
    "    ax.set_ylabel(ylabel)\n",
    "    ax.set_xticks(ax.get_xticks()[::14])"
   ]
  },
  {
   "cell_type": "code",
   "execution_count": null,
   "metadata": {},
   "outputs": [],
   "source": [
    "data_avg_by_year = data\n",
    "data_avg_by_year['year']= data_avg_by_year['date'].dt.year\n",
    "data_avg_by_year = data_avg_by_year.drop(columns=['holiday','date','dayofyear','dayofweek'])\n",
    "data_avg_by_year = data_avg_by_year.groupby('year').mean()\n",
    "data_avg_by_year"
   ]
  },
  {
   "cell_type": "code",
   "execution_count": null,
   "metadata": {},
   "outputs": [],
   "source": [
    "draw_plot_hour_for_year(data_avg_by_year, title['avg_consumption_each_year'], ylabel)\n",
    "savePlot('avg_hour')"
   ]
  },
  {
   "cell_type": "code",
   "execution_count": null,
   "metadata": {},
   "outputs": [],
   "source": [
    "data_avg_by_year_per_holiday = data.copy()\n",
    "data_avg_by_year_per_holiday = data_avg_by_year_per_holiday.drop(columns=['date','dayofyear','dayofweek'])\n",
    "data_avg_by_year_per_holiday = data_avg_by_year_per_holiday.groupby(['holiday','year']).mean()\n",
    "data_avg_by_year_per_holiday"
   ]
  },
  {
   "cell_type": "code",
   "execution_count": null,
   "metadata": {},
   "outputs": [],
   "source": [
    "draw_two_plots_hour_for_year(data_avg_by_year_per_holiday, ['Work days','Holidays'], ylabel)\n",
    "savePlot('avg_workday_holiday')"
   ]
  },
  {
   "cell_type": "code",
   "execution_count": null,
   "metadata": {},
   "outputs": [],
   "source": []
  },
  {
   "cell_type": "code",
   "execution_count": null,
   "metadata": {},
   "outputs": [],
   "source": [
    "data_avg_by_year_per_dayofweek = data.copy()\n",
    "df = data_avg_by_year_per_dayofweek\n",
    "df = df.loc[(df['dayofweek'] == 6) | ((df['dayofweek'] != 6) & (df['holiday'] == 0))]\n",
    "df = df.drop(columns=['holiday','date','dayofyear'])\n",
    "df = df.groupby(['dayofweek','year']).mean()\n",
    "data_avg_by_year_per_dayofweek = df\n",
    "data_avg_by_year_per_dayofweek"
   ]
  },
  {
   "cell_type": "code",
   "execution_count": null,
   "metadata": {},
   "outputs": [],
   "source": [
    "draw_7_plots_hour_for_year(data_avg_by_year_per_dayofweek, str_week_list, ylabel)\n",
    "savePlot('avg_dayofweek')"
   ]
  },
  {
   "cell_type": "code",
   "execution_count": null,
   "metadata": {},
   "outputs": [],
   "source": [
    "data_std_by_year_per_dayofweek = data.copy()\n",
    "df = data_std_by_year_per_dayofweek\n",
    "df = df.loc[(df['dayofweek'] == 6) | ((df['dayofweek'] != 6) & (df['holiday'] == 0))]\n",
    "df = df.drop(columns=['holiday','date','dayofyear'])\n",
    "df = df.groupby(['dayofweek','year']).std()\n",
    "data_std_by_year_per_dayofweek = df\n",
    "data_std_by_year_per_dayofweek"
   ]
  },
  {
   "cell_type": "code",
   "execution_count": null,
   "metadata": {},
   "outputs": [],
   "source": [
    "draw_7_plots_hour_for_year(data_std_by_year_per_dayofweek, str_week_list, ylabel, title['std_per_dayofweek'])\n",
    "savePlot('std_dayofweek')"
   ]
  },
  {
   "cell_type": "code",
   "execution_count": null,
   "metadata": {},
   "outputs": [],
   "source": [
    "data_median_by_year_per_dayofweek = data.copy()\n",
    "df = data_median_by_year_per_dayofweek\n",
    "df = df.loc[(df['dayofweek'] == 6) | ((df['dayofweek'] != 6) & (df['holiday'] == 0))]\n",
    "df = df.drop(columns=['holiday','date','dayofyear'])\n",
    "df = df.groupby(['dayofweek','year']).mean()\n",
    "data_median_by_year_per_dayofweek = df\n",
    "data_median_by_year_per_dayofweek"
   ]
  },
  {
   "cell_type": "code",
   "execution_count": null,
   "metadata": {},
   "outputs": [],
   "source": [
    "draw_7_plots_hour_for_year(data_median_by_year_per_dayofweek, str_week_list, ylabel, title['median_per_dayofweek'])\n",
    "savePlot('median_dayofweek')"
   ]
  },
  {
   "cell_type": "code",
   "execution_count": null,
   "metadata": {},
   "outputs": [],
   "source": [
    "data_total_per_day_of_year = data.copy()\n",
    "df = data_total_per_day_of_year\n",
    "df = df.drop(columns=['holiday','date','dayofweek'])\n",
    "# df.pivot(index=df.index,columns=['year','dayofyear'])\n",
    "# df = df.melt('Date', var_name='X', value_name='Val')\n",
    "df = df.set_index(['year','dayofyear']).stack().reset_index().rename(columns={\"level_2\": \"hour\"})\n",
    "df = df.groupby(['year','dayofyear']).sum()\n",
    "df['sma'] = df.rolling(14,min_periods=1).mean()\n",
    "df = df.drop(columns=[0])\n",
    "data_total_per_day_of_year = df\n",
    "data_total_per_day_of_year"
   ]
  },
  {
   "cell_type": "code",
   "execution_count": null,
   "metadata": {},
   "outputs": [],
   "source": [
    "draw_plot_dayofyear(data_total_per_day_of_year, 'Simple Moving Average for 14 days window',ylabel)\n",
    "savePlot('sma_14days')"
   ]
  },
  {
   "cell_type": "code",
   "execution_count": null,
   "metadata": {},
   "outputs": [],
   "source": [
    "data_total_per_day_of_year = data.copy()\n",
    "df = data_total_per_day_of_year\n",
    "df = df.drop(columns=['holiday','date','dayofweek'])\n",
    "# df.pivot(index=df.index,columns=['year','dayofyear'])\n",
    "# df = df.melt('Date', var_name='X', value_name='Val')\n",
    "df = df.set_index(['year','dayofyear']).stack().reset_index().rename(columns={\"level_2\": \"hour\"})\n",
    "df = df.groupby(['year','dayofyear']).sum()\n",
    "df['sma'] = df.rolling(14,min_periods=1).mean()\n",
    "df = df.drop(columns=[0])\n",
    "data_total_per_day_of_year = df\n",
    "data_total_per_day_of_year"
   ]
  },
  {
   "cell_type": "code",
   "execution_count": null,
   "metadata": {},
   "outputs": [],
   "source": [
    "data_per_year = data.copy()\n",
    "df = data_per_year\n",
    "df = df.drop(columns=['holiday','date','dayofweek','dayofyear'])\n",
    "df = df.set_index(['year']).stack().reset_index().rename(columns={\"level_1\": \"hour\"})\n",
    "df = df.groupby(['year']).sum()\n",
    "df.iloc[:,0] = df.iloc[:,0] / 1000000\n",
    "df = df.iloc[:-1,:]\n",
    "data_per_year = df\n",
    "data_per_year"
   ]
  },
  {
   "cell_type": "code",
   "execution_count": null,
   "metadata": {},
   "outputs": [],
   "source": [
    "draw_simple_barplot_for_years(data_per_year,title['total_consumption_2016_2019'], ylabel = ylabelTWh)\n",
    "savePlot('total_year')"
   ]
  },
  {
   "cell_type": "code",
   "execution_count": null,
   "metadata": {},
   "outputs": [],
   "source": [
    "data_one_year = data.copy()\n",
    "df = data_one_year\n",
    "df['day'] = df['date'].dt.strftime('%m-%d')\n",
    "df = df[df.year == 2019]\n",
    "# df = df.set_index(['day'])\n",
    "df = df.drop(columns=['date','year','holiday','dayofweek','dayofyear'])\n",
    "# df.pivot(index=df.index,columns=['year','dayofyear'])\n",
    "# df = df.melt('Date', var_name='X', value_name='Val')\n",
    "df = df.set_index(['day']).stack().reset_index()\n",
    "df = df.groupby(['day']).sum()\n",
    "data_one_year = df"
   ]
  },
  {
   "cell_type": "code",
   "execution_count": null,
   "metadata": {},
   "outputs": [],
   "source": [
    "draw_plot_single_dayofyear(data_one_year, title['total_consumption_2019'])\n",
    "savePlot('total_day_2019')"
   ]
  },
  {
   "cell_type": "code",
   "execution_count": null,
   "metadata": {},
   "outputs": [],
   "source": []
  },
  {
   "cell_type": "code",
   "execution_count": null,
   "metadata": {},
   "outputs": [],
   "source": []
  },
  {
   "cell_type": "code",
   "execution_count": null,
   "metadata": {},
   "outputs": [],
   "source": []
  },
  {
   "cell_type": "code",
   "execution_count": null,
   "metadata": {},
   "outputs": [],
   "source": []
  },
  {
   "cell_type": "code",
   "execution_count": null,
   "metadata": {},
   "outputs": [],
   "source": []
  },
  {
   "cell_type": "code",
   "execution_count": null,
   "metadata": {},
   "outputs": [],
   "source": []
  }
 ],
 "metadata": {
  "kernelspec": {
   "display_name": "Python 3",
   "language": "python",
   "name": "python3"
  },
  "language_info": {
   "codemirror_mode": {
    "name": "ipython",
    "version": 3
   },
   "file_extension": ".py",
   "mimetype": "text/x-python",
   "name": "python",
   "nbconvert_exporter": "python",
   "pygments_lexer": "ipython3",
   "version": "3.7.6"
  }
 },
 "nbformat": 4,
 "nbformat_minor": 4
}
